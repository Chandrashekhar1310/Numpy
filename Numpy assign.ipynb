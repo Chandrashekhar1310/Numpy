{
 "cells": [
  {
   "cell_type": "markdown",
   "id": "21e1d404-a555-4c57-b04f-bf30f1c5c8e9",
   "metadata": {},
   "source": [
    "# Q1. Is there any difference in the data type of variables list_ and array_list? If there is then write a code to print the data types of both the variables."
   ]
  },
  {
   "cell_type": "code",
   "execution_count": 1,
   "id": "672b3138-0677-4e9d-82e4-51f7c764580c",
   "metadata": {},
   "outputs": [],
   "source": [
    " import numpy as np\n",
    "list_ = [ '1' , '2' , '3' , '4' , '5' ]\n",
    "array_list = np.array(object = list_)"
   ]
  },
  {
   "cell_type": "markdown",
   "id": "3499e21e-17a4-4763-91bb-d9d6782f3e31",
   "metadata": {},
   "source": [
    "Yes, there is a difference in the data type of the list_ and array_list variables. The list_ variable is a Python list of strings, whereas the array_list variable is a NumPy array of strings."
   ]
  },
  {
   "cell_type": "code",
   "execution_count": 2,
   "id": "9909f8a3-25ea-46d6-82c2-db27fa0ad4af",
   "metadata": {},
   "outputs": [
    {
     "data": {
      "text/plain": [
       "list"
      ]
     },
     "execution_count": 2,
     "metadata": {},
     "output_type": "execute_result"
    }
   ],
   "source": [
    "type(list_)"
   ]
  },
  {
   "cell_type": "code",
   "execution_count": 3,
   "id": "b837d6b7-ab12-405b-b1ef-39ed5b3a92cd",
   "metadata": {},
   "outputs": [
    {
     "data": {
      "text/plain": [
       "numpy.ndarray"
      ]
     },
     "execution_count": 3,
     "metadata": {},
     "output_type": "execute_result"
    }
   ],
   "source": [
    "type(array_list)"
   ]
  },
  {
   "cell_type": "markdown",
   "id": "2ebf526d-d165-4ab5-8b2e-add652fd9218",
   "metadata": {},
   "source": [
    "# Q2. Write a code to print the data type of each and every element of both the variables list_ and array_list."
   ]
  },
  {
   "cell_type": "markdown",
   "id": "9a4d7ef7-fcf5-4fba-8cf9-87a3f269aea3",
   "metadata": {},
   "source": [
    "for element in list_:\n",
    "    print(type(list_))"
   ]
  },
  {
   "cell_type": "code",
   "execution_count": 4,
   "id": "db851fe5-7114-48cf-8c32-319fe79a2bc2",
   "metadata": {},
   "outputs": [
    {
     "name": "stdout",
     "output_type": "stream",
     "text": [
      "<class 'numpy.ndarray'>\n",
      "<class 'numpy.ndarray'>\n",
      "<class 'numpy.ndarray'>\n",
      "<class 'numpy.ndarray'>\n",
      "<class 'numpy.ndarray'>\n"
     ]
    }
   ],
   "source": [
    "for element in array_list:\n",
    "    print(type(array_list))"
   ]
  },
  {
   "cell_type": "markdown",
   "id": "c55690a2-48d1-4422-b1b8-8f558fcbcc43",
   "metadata": {},
   "source": [
    "# Q3. Considering the following changes in the variable, array_list:\n",
    "# array_list = np.array(object = list_, dtype = int)\n",
    "# Will there be any difference in the data type of the elements present in both the variables, list_ and array_list? If so then print the data types of each and every element present in both the variables, list_ and arra_list."
   ]
  },
  {
   "cell_type": "code",
   "execution_count": 5,
   "id": "643e18ca-0a10-4b7b-b9c6-2141cf600076",
   "metadata": {},
   "outputs": [
    {
     "data": {
      "text/plain": [
       "array(['1', '2', '3', '4', '5'], dtype='<U1')"
      ]
     },
     "execution_count": 5,
     "metadata": {},
     "output_type": "execute_result"
    }
   ],
   "source": [
    "array_list"
   ]
  },
  {
   "cell_type": "markdown",
   "id": "f5c8e64e-181f-4ad5-b8ed-045cf4540d8f",
   "metadata": {},
   "source": [
    "Yes, there will be a difference in the data type of the elements present in the list_ and array_list"
   ]
  },
  {
   "cell_type": "code",
   "execution_count": 6,
   "id": "b28e4fb0-d884-4d2a-b69b-1ea7a847d691",
   "metadata": {},
   "outputs": [],
   "source": [
    "array_list = np.array(object = list_, dtype = int)"
   ]
  },
  {
   "cell_type": "markdown",
   "id": "e1becaf8-bede-48fa-8bcf-900ef3d84f0c",
   "metadata": {},
   "source": [
    "In this line of code, we are creating a new NumPy array array_list from the list_ variable, and specifying a data type of int for the elements of the new array.\n",
    "To print the data types of each and every element present in both the list_ and array_list variables"
   ]
  },
  {
   "cell_type": "code",
   "execution_count": 7,
   "id": "c1b36f6b-b5a5-4a51-b8d5-58f50da1b8ad",
   "metadata": {},
   "outputs": [
    {
     "name": "stdout",
     "output_type": "stream",
     "text": [
      "<class 'str'>\n",
      "<class 'str'>\n",
      "<class 'str'>\n",
      "<class 'str'>\n",
      "<class 'str'>\n",
      "<class 'numpy.int64'>\n",
      "<class 'numpy.int64'>\n",
      "<class 'numpy.int64'>\n",
      "<class 'numpy.int64'>\n",
      "<class 'numpy.int64'>\n"
     ]
    }
   ],
   "source": [
    "list_ = ['1', '2', '3', '4', '5']\n",
    "array_list = np.array(object=list_, dtype=int)\n",
    "\n",
    "# Print data types of elements in list_\n",
    "for element in list_:\n",
    "    print(type(element))\n",
    "\n",
    "# Print data types of elements in array_list\n",
    "for element in array_list:\n",
    "    print(type(element))"
   ]
  },
  {
   "cell_type": "markdown",
   "id": "1ebad261-8708-4e2a-91b4-bc3615ce533e",
   "metadata": {},
   "source": [
    "# Q4. Write a code to find the following characteristics of variable, num_array:\n",
    "# (i) shape\n",
    "# (ii) size"
   ]
  },
  {
   "cell_type": "code",
   "execution_count": 8,
   "id": "e0ac60db-3350-473a-8e37-60db4dae9f28",
   "metadata": {},
   "outputs": [],
   "source": [
    "import numpy as np\n",
    "num_list = [ [ 1 , 2 , 3 ] , [ 4 , 5 , 6 ] ]\n",
    "num_array = np.array(object = num_list)"
   ]
  },
  {
   "cell_type": "code",
   "execution_count": 9,
   "id": "a2278038-6930-4b25-b5a3-214c295735f0",
   "metadata": {},
   "outputs": [
    {
     "data": {
      "text/plain": [
       "(2, 3)"
      ]
     },
     "execution_count": 9,
     "metadata": {},
     "output_type": "execute_result"
    }
   ],
   "source": [
    "num_array.shape"
   ]
  },
  {
   "cell_type": "code",
   "execution_count": 10,
   "id": "6cba80cc-81d9-48f5-95b6-baae406690e8",
   "metadata": {},
   "outputs": [
    {
     "data": {
      "text/plain": [
       "6"
      ]
     },
     "execution_count": 10,
     "metadata": {},
     "output_type": "execute_result"
    }
   ],
   "source": [
    "num_array.size"
   ]
  },
  {
   "cell_type": "markdown",
   "id": "4df917a5-d693-4ef4-ba13-b80ef4438141",
   "metadata": {},
   "source": [
    "# Q5. Write a code to create numpy array of 3*3 matrix containing zeros only, using a numpy array creation function."
   ]
  },
  {
   "cell_type": "code",
   "execution_count": 13,
   "id": "212cf95d-cb15-43ba-bd66-1d6e92e5958b",
   "metadata": {},
   "outputs": [],
   "source": [
    "array1 = np.zeros((3,3))"
   ]
  },
  {
   "cell_type": "code",
   "execution_count": 14,
   "id": "20b676a5-e5c1-4da8-8c3c-a3a2ff9509b9",
   "metadata": {},
   "outputs": [
    {
     "data": {
      "text/plain": [
       "array([[0., 0., 0.],\n",
       "       [0., 0., 0.],\n",
       "       [0., 0., 0.]])"
      ]
     },
     "execution_count": 14,
     "metadata": {},
     "output_type": "execute_result"
    }
   ],
   "source": [
    "array1"
   ]
  },
  {
   "cell_type": "markdown",
   "id": "81fc1b30-bc64-4e5f-87f2-a80f4c31b0b8",
   "metadata": {},
   "source": [
    "# Q6. Create an identity matrix of shape (5,5) using numpy functions?"
   ]
  },
  {
   "cell_type": "code",
   "execution_count": 16,
   "id": "89e491cf-7d7e-43e9-87ea-c5765ea871c1",
   "metadata": {},
   "outputs": [],
   "source": [
    "arry = np.eye(5)"
   ]
  },
  {
   "cell_type": "code",
   "execution_count": 17,
   "id": "fc0ce55a-4c2b-4615-9bd7-28251d19a900",
   "metadata": {},
   "outputs": [
    {
     "data": {
      "text/plain": [
       "array([[1., 0., 0., 0., 0.],\n",
       "       [0., 1., 0., 0., 0.],\n",
       "       [0., 0., 1., 0., 0.],\n",
       "       [0., 0., 0., 1., 0.],\n",
       "       [0., 0., 0., 0., 1.]])"
      ]
     },
     "execution_count": 17,
     "metadata": {},
     "output_type": "execute_result"
    }
   ],
   "source": [
    "arry"
   ]
  },
  {
   "cell_type": "code",
   "execution_count": null,
   "id": "d958157f-60bd-45de-b767-10d6041633aa",
   "metadata": {},
   "outputs": [],
   "source": []
  }
 ],
 "metadata": {
  "kernelspec": {
   "display_name": "Python 3 (ipykernel)",
   "language": "python",
   "name": "python3"
  },
  "language_info": {
   "codemirror_mode": {
    "name": "ipython",
    "version": 3
   },
   "file_extension": ".py",
   "mimetype": "text/x-python",
   "name": "python",
   "nbconvert_exporter": "python",
   "pygments_lexer": "ipython3",
   "version": "3.10.8"
  }
 },
 "nbformat": 4,
 "nbformat_minor": 5
}
